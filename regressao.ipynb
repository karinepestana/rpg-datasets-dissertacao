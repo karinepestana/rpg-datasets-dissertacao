{
 "nbformat": 4,
 "nbformat_minor": 2,
 "metadata": {
  "language_info": {
   "name": "python",
   "codemirror_mode": {
    "name": "ipython",
    "version": 3
   },
   "version": "3.7.3-final"
  },
  "orig_nbformat": 2,
  "file_extension": ".py",
  "mimetype": "text/x-python",
  "name": "python",
  "npconvert_exporter": "python",
  "pygments_lexer": "ipython3",
  "version": 3,
  "kernelspec": {
   "name": "c513c104-2ffd-4210-b88f-1ad6c27778f8",
   "display_name": "'Python Interactive'"
  }
 },
 "cells": [
  {
   "cell_type": "code",
   "execution_count": 13,
   "metadata": {},
   "outputs": [],
   "source": [
    "import numpy as np\n",
    "import pandas as pd\n",
    "from sklearn import preprocessing"
   ]
  },
  {
   "cell_type": "code",
   "execution_count": 2,
   "metadata": {},
   "outputs": [],
   "source": [
    "df = pd.read_csv('logs.txt', delimiter='\\t')"
   ]
  },
  {
   "cell_type": "code",
   "execution_count": 3,
   "metadata": {},
   "outputs": [
    {
     "output_type": "execute_result",
     "data": {
      "text/plain": "    acao pessoa1 pessoa2  parcela        objeto tipo_preco  rodada  jogo  \\\n0  venda  EmpSem     AT1      1.0          Soja      baixo       1     2   \n1  venda  EmpAgr     AT1      1.0  SuperPremium      baixo       1     2   \n2  venda  EmpSem     AT1      2.0          Soja      baixo       1     2   \n3  venda  EmpAgr     AT1      2.0  SuperPremium      baixo       1     2   \n4  venda  EmpSem     AT1      3.0          Soja      baixo       1     2   \n\n   saldo_CD1  saldo_CD2  ...  saldo_EmpSem  saldo_FiscalAT  saldo_FiscalCD  \\\n0      600.0      600.0  ...         125.0             0.0             0.0   \n1      600.0      600.0  ...         125.0             0.0             0.0   \n2      600.0      600.0  ...         150.0             0.0             0.0   \n3      600.0      600.0  ...         150.0             0.0             0.0   \n4      600.0      600.0  ...         175.0             0.0             0.0   \n\n   saldo_PrefeitoAT  saldo_PrefeitoCD  poluicao_mundial  selo  prox_taxa  \\\n0            1000.0            1000.0             50.33   NaN        NaN   \n1            1000.0            1000.0             53.04   NaN        NaN   \n2            1000.0            1000.0             53.37   NaN        NaN   \n3            1000.0            1000.0             56.08   NaN        NaN   \n4            1000.0            1000.0             56.41   NaN        NaN   \n\n   val_taxa  tratamento  \n0       NaN         NaN  \n1       NaN         NaN  \n2       NaN         NaN  \n3       NaN         NaN  \n4       NaN         NaN  \n\n[5 rows x 27 columns]",
      "text/html": "<div>\n<style scoped>\n    .dataframe tbody tr th:only-of-type {\n        vertical-align: middle;\n    }\n\n    .dataframe tbody tr th {\n        vertical-align: top;\n    }\n\n    .dataframe thead th {\n        text-align: right;\n    }\n</style>\n<table border=\"1\" class=\"dataframe\">\n  <thead>\n    <tr style=\"text-align: right;\">\n      <th></th>\n      <th>acao</th>\n      <th>pessoa1</th>\n      <th>pessoa2</th>\n      <th>parcela</th>\n      <th>objeto</th>\n      <th>tipo_preco</th>\n      <th>rodada</th>\n      <th>jogo</th>\n      <th>saldo_CD1</th>\n      <th>saldo_CD2</th>\n      <th>...</th>\n      <th>saldo_EmpSem</th>\n      <th>saldo_FiscalAT</th>\n      <th>saldo_FiscalCD</th>\n      <th>saldo_PrefeitoAT</th>\n      <th>saldo_PrefeitoCD</th>\n      <th>poluicao_mundial</th>\n      <th>selo</th>\n      <th>prox_taxa</th>\n      <th>val_taxa</th>\n      <th>tratamento</th>\n    </tr>\n  </thead>\n  <tbody>\n    <tr>\n      <th>0</th>\n      <td>venda</td>\n      <td>EmpSem</td>\n      <td>AT1</td>\n      <td>1.0</td>\n      <td>Soja</td>\n      <td>baixo</td>\n      <td>1</td>\n      <td>2</td>\n      <td>600.0</td>\n      <td>600.0</td>\n      <td>...</td>\n      <td>125.0</td>\n      <td>0.0</td>\n      <td>0.0</td>\n      <td>1000.0</td>\n      <td>1000.0</td>\n      <td>50.33</td>\n      <td>NaN</td>\n      <td>NaN</td>\n      <td>NaN</td>\n      <td>NaN</td>\n    </tr>\n    <tr>\n      <th>1</th>\n      <td>venda</td>\n      <td>EmpAgr</td>\n      <td>AT1</td>\n      <td>1.0</td>\n      <td>SuperPremium</td>\n      <td>baixo</td>\n      <td>1</td>\n      <td>2</td>\n      <td>600.0</td>\n      <td>600.0</td>\n      <td>...</td>\n      <td>125.0</td>\n      <td>0.0</td>\n      <td>0.0</td>\n      <td>1000.0</td>\n      <td>1000.0</td>\n      <td>53.04</td>\n      <td>NaN</td>\n      <td>NaN</td>\n      <td>NaN</td>\n      <td>NaN</td>\n    </tr>\n    <tr>\n      <th>2</th>\n      <td>venda</td>\n      <td>EmpSem</td>\n      <td>AT1</td>\n      <td>2.0</td>\n      <td>Soja</td>\n      <td>baixo</td>\n      <td>1</td>\n      <td>2</td>\n      <td>600.0</td>\n      <td>600.0</td>\n      <td>...</td>\n      <td>150.0</td>\n      <td>0.0</td>\n      <td>0.0</td>\n      <td>1000.0</td>\n      <td>1000.0</td>\n      <td>53.37</td>\n      <td>NaN</td>\n      <td>NaN</td>\n      <td>NaN</td>\n      <td>NaN</td>\n    </tr>\n    <tr>\n      <th>3</th>\n      <td>venda</td>\n      <td>EmpAgr</td>\n      <td>AT1</td>\n      <td>2.0</td>\n      <td>SuperPremium</td>\n      <td>baixo</td>\n      <td>1</td>\n      <td>2</td>\n      <td>600.0</td>\n      <td>600.0</td>\n      <td>...</td>\n      <td>150.0</td>\n      <td>0.0</td>\n      <td>0.0</td>\n      <td>1000.0</td>\n      <td>1000.0</td>\n      <td>56.08</td>\n      <td>NaN</td>\n      <td>NaN</td>\n      <td>NaN</td>\n      <td>NaN</td>\n    </tr>\n    <tr>\n      <th>4</th>\n      <td>venda</td>\n      <td>EmpSem</td>\n      <td>AT1</td>\n      <td>3.0</td>\n      <td>Soja</td>\n      <td>baixo</td>\n      <td>1</td>\n      <td>2</td>\n      <td>600.0</td>\n      <td>600.0</td>\n      <td>...</td>\n      <td>175.0</td>\n      <td>0.0</td>\n      <td>0.0</td>\n      <td>1000.0</td>\n      <td>1000.0</td>\n      <td>56.41</td>\n      <td>NaN</td>\n      <td>NaN</td>\n      <td>NaN</td>\n      <td>NaN</td>\n    </tr>\n  </tbody>\n</table>\n<p>5 rows × 27 columns</p>\n</div>"
     },
     "metadata": {},
     "execution_count": 3
    }
   ],
   "source": [
    "df.head()"
   ]
  },
  {
   "cell_type": "code",
   "execution_count": 4,
   "metadata": {},
   "outputs": [
    {
     "output_type": "execute_result",
     "data": {
      "text/plain": "    acao pessoa1 pessoa2  parcela        objeto tipo_preco  saldo_CD1  \\\n0  venda  EmpSem     AT1      1.0          Soja      baixo      600.0   \n1  venda  EmpAgr     AT1      1.0  SuperPremium      baixo      600.0   \n2  venda  EmpSem     AT1      2.0          Soja      baixo      600.0   \n3  venda  EmpAgr     AT1      2.0  SuperPremium      baixo      600.0   \n4  venda  EmpSem     AT1      3.0          Soja      baixo      600.0   \n\n   saldo_CD2  saldo_CD3  saldo_AT1  ...  saldo_EmpMaq  saldo_EmpSem  \\\n0      600.0      600.0      585.0  ...         100.0         125.0   \n1      600.0      600.0      670.0  ...         100.0         125.0   \n2      600.0      600.0      655.0  ...         100.0         150.0   \n3      600.0      600.0      740.0  ...         100.0         150.0   \n4      600.0      600.0      725.0  ...         100.0         175.0   \n\n   saldo_FiscalAT  saldo_FiscalCD  saldo_PrefeitoAT  saldo_PrefeitoCD  selo  \\\n0             0.0             0.0            1000.0            1000.0   NaN   \n1             0.0             0.0            1000.0            1000.0   NaN   \n2             0.0             0.0            1000.0            1000.0   NaN   \n3             0.0             0.0            1000.0            1000.0   NaN   \n4             0.0             0.0            1000.0            1000.0   NaN   \n\n   prox_taxa  val_taxa  tratamento  \n0        NaN       NaN         NaN  \n1        NaN       NaN         NaN  \n2        NaN       NaN         NaN  \n3        NaN       NaN         NaN  \n4        NaN       NaN         NaN  \n\n[5 rows x 24 columns]",
      "text/html": "<div>\n<style scoped>\n    .dataframe tbody tr th:only-of-type {\n        vertical-align: middle;\n    }\n\n    .dataframe tbody tr th {\n        vertical-align: top;\n    }\n\n    .dataframe thead th {\n        text-align: right;\n    }\n</style>\n<table border=\"1\" class=\"dataframe\">\n  <thead>\n    <tr style=\"text-align: right;\">\n      <th></th>\n      <th>acao</th>\n      <th>pessoa1</th>\n      <th>pessoa2</th>\n      <th>parcela</th>\n      <th>objeto</th>\n      <th>tipo_preco</th>\n      <th>saldo_CD1</th>\n      <th>saldo_CD2</th>\n      <th>saldo_CD3</th>\n      <th>saldo_AT1</th>\n      <th>...</th>\n      <th>saldo_EmpMaq</th>\n      <th>saldo_EmpSem</th>\n      <th>saldo_FiscalAT</th>\n      <th>saldo_FiscalCD</th>\n      <th>saldo_PrefeitoAT</th>\n      <th>saldo_PrefeitoCD</th>\n      <th>selo</th>\n      <th>prox_taxa</th>\n      <th>val_taxa</th>\n      <th>tratamento</th>\n    </tr>\n  </thead>\n  <tbody>\n    <tr>\n      <th>0</th>\n      <td>venda</td>\n      <td>EmpSem</td>\n      <td>AT1</td>\n      <td>1.0</td>\n      <td>Soja</td>\n      <td>baixo</td>\n      <td>600.0</td>\n      <td>600.0</td>\n      <td>600.0</td>\n      <td>585.0</td>\n      <td>...</td>\n      <td>100.0</td>\n      <td>125.0</td>\n      <td>0.0</td>\n      <td>0.0</td>\n      <td>1000.0</td>\n      <td>1000.0</td>\n      <td>NaN</td>\n      <td>NaN</td>\n      <td>NaN</td>\n      <td>NaN</td>\n    </tr>\n    <tr>\n      <th>1</th>\n      <td>venda</td>\n      <td>EmpAgr</td>\n      <td>AT1</td>\n      <td>1.0</td>\n      <td>SuperPremium</td>\n      <td>baixo</td>\n      <td>600.0</td>\n      <td>600.0</td>\n      <td>600.0</td>\n      <td>670.0</td>\n      <td>...</td>\n      <td>100.0</td>\n      <td>125.0</td>\n      <td>0.0</td>\n      <td>0.0</td>\n      <td>1000.0</td>\n      <td>1000.0</td>\n      <td>NaN</td>\n      <td>NaN</td>\n      <td>NaN</td>\n      <td>NaN</td>\n    </tr>\n    <tr>\n      <th>2</th>\n      <td>venda</td>\n      <td>EmpSem</td>\n      <td>AT1</td>\n      <td>2.0</td>\n      <td>Soja</td>\n      <td>baixo</td>\n      <td>600.0</td>\n      <td>600.0</td>\n      <td>600.0</td>\n      <td>655.0</td>\n      <td>...</td>\n      <td>100.0</td>\n      <td>150.0</td>\n      <td>0.0</td>\n      <td>0.0</td>\n      <td>1000.0</td>\n      <td>1000.0</td>\n      <td>NaN</td>\n      <td>NaN</td>\n      <td>NaN</td>\n      <td>NaN</td>\n    </tr>\n    <tr>\n      <th>3</th>\n      <td>venda</td>\n      <td>EmpAgr</td>\n      <td>AT1</td>\n      <td>2.0</td>\n      <td>SuperPremium</td>\n      <td>baixo</td>\n      <td>600.0</td>\n      <td>600.0</td>\n      <td>600.0</td>\n      <td>740.0</td>\n      <td>...</td>\n      <td>100.0</td>\n      <td>150.0</td>\n      <td>0.0</td>\n      <td>0.0</td>\n      <td>1000.0</td>\n      <td>1000.0</td>\n      <td>NaN</td>\n      <td>NaN</td>\n      <td>NaN</td>\n      <td>NaN</td>\n    </tr>\n    <tr>\n      <th>4</th>\n      <td>venda</td>\n      <td>EmpSem</td>\n      <td>AT1</td>\n      <td>3.0</td>\n      <td>Soja</td>\n      <td>baixo</td>\n      <td>600.0</td>\n      <td>600.0</td>\n      <td>600.0</td>\n      <td>725.0</td>\n      <td>...</td>\n      <td>100.0</td>\n      <td>175.0</td>\n      <td>0.0</td>\n      <td>0.0</td>\n      <td>1000.0</td>\n      <td>1000.0</td>\n      <td>NaN</td>\n      <td>NaN</td>\n      <td>NaN</td>\n      <td>NaN</td>\n    </tr>\n  </tbody>\n</table>\n<p>5 rows × 24 columns</p>\n</div>"
     },
     "metadata": {},
     "execution_count": 4
    }
   ],
   "source": [
    "previsores = df.drop(columns=['rodada','jogo','poluicao_mundial'])\n",
    "classe = df.iloc[:, 22].values #poluicao\n",
    "previsores.head()"
   ]
  },
  {
   "cell_type": "code",
   "execution_count": 5,
   "metadata": {},
   "outputs": [
    {
     "output_type": "execute_result",
     "data": {
      "text/plain": "   saldo_CD1  saldo_CD2  saldo_CD3  saldo_AT1  saldo_AT2  saldo_AT3  \\\n0      600.0      600.0      600.0      585.0      600.0      600.0   \n1      600.0      600.0      600.0      670.0      600.0      600.0   \n2      600.0      600.0      600.0      655.0      600.0      600.0   \n3      600.0      600.0      600.0      740.0      600.0      600.0   \n4      600.0      600.0      600.0      725.0      600.0      600.0   \n\n   saldo_EmpAgr  saldo_EmpFer  saldo_EmpMaq  saldo_EmpSem  saldo_FiscalAT  \\\n0         100.0         100.0         100.0         125.0             0.0   \n1         125.0         100.0         100.0         125.0             0.0   \n2         125.0         100.0         100.0         150.0             0.0   \n3         150.0         100.0         100.0         150.0             0.0   \n4         150.0         100.0         100.0         175.0             0.0   \n\n   saldo_FiscalCD  saldo_PrefeitoAT  saldo_PrefeitoCD  selo  prox_taxa  \\\n0             0.0            1000.0            1000.0   NaN        NaN   \n1             0.0            1000.0            1000.0   NaN        NaN   \n2             0.0            1000.0            1000.0   NaN        NaN   \n3             0.0            1000.0            1000.0   NaN        NaN   \n4             0.0            1000.0            1000.0   NaN        NaN   \n\n   val_taxa  parcela  acao_aluguel  acao_imposto  acao_multa  acao_novaTaxa  \\\n0       NaN      1.0             0             0           0              0   \n1       NaN      1.0             0             0           0              0   \n2       NaN      2.0             0             0           0              0   \n3       NaN      2.0             0             0           0              0   \n4       NaN      3.0             0             0           0              0   \n\n   acao_selo  acao_transferencia  acao_tratamento  acao_venda  pessoa1_AT1  \\\n0          0                   0                0           1            0   \n1          0                   0                0           1            0   \n2          0                   0                0           1            0   \n3          0                   0                0           1            0   \n4          0                   0                0           1            0   \n\n   pessoa1_AT2  pessoa1_AT3  pessoa1_CD1  pessoa1_CD2  pessoa1_EmpAgr  \\\n0            0            0            0            0               0   \n1            0            0            0            0               1   \n2            0            0            0            0               0   \n3            0            0            0            0               1   \n4            0            0            0            0               0   \n\n   pessoa1_EmpFer  pessoa1_EmpMaq  pessoa1_EmpSem  pessoa1_FiscalAT  \\\n0               0               0               1                 0   \n1               0               0               0                 0   \n2               0               0               1                 0   \n3               0               0               0                 0   \n4               0               0               1                 0   \n\n   pessoa1_FiscalCD  pessoa1_PrefeitoAT  pessoa1_PrefeitoCD  pessoa2_AT1  \\\n0                 0                   0                   0            1   \n1                 0                   0                   0            1   \n2                 0                   0                   0            1   \n3                 0                   0                   0            1   \n4                 0                   0                   0            1   \n\n   pessoa2_AT2  pessoa2_AT3  pessoa2_CD1  pessoa2_CD2  pessoa2_CD3  \\\n0            0            0            0            0            0   \n1            0            0            0            0            0   \n2            0            0            0            0            0   \n3            0            0            0            0            0   \n4            0            0            0            0            0   \n\n   pessoa2_EmpAgr  pessoa2_EmpFer  pessoa2_EmpMaq  pessoa2_EmpSem  \\\n0               0               0               0               0   \n1               0               0               0               0   \n2               0               0               0               0   \n3               0               0               0               0   \n4               0               0               0               0   \n\n   objeto_Arroz  objeto_Comum  objeto_Hortalica  objeto_Maquinas1  \\\n0             0             0                 0                 0   \n1             0             0                 0                 0   \n2             0             0                 0                 0   \n3             0             0                 0                 0   \n4             0             0                 0                 0   \n\n   objeto_Maquinas2  objeto_Maquinas3  objeto_Premium  objeto_Pulverizador  \\\n0                 0                 0               0                    0   \n1                 0                 0               0                    0   \n2                 0                 0               0                    0   \n3                 0                 0               0                    0   \n4                 0                 0               0                    0   \n\n   objeto_Soja  objeto_SuperPremium  tipo_preco_alto  tipo_preco_baixo  \\\n0            1                    0                0                 1   \n1            0                    1                0                 1   \n2            1                    0                0                 1   \n3            0                    1                0                 1   \n4            1                    0                0                 1   \n\n   tipo_preco_normal  tratamento_Agua  tratamento_Esgoto  tratamento_Lixo  \n0                  0                0                  0                0  \n1                  0                0                  0                0  \n2                  0                0                  0                0  \n3                  0                0                  0                0  \n4                  0                0                  0                0  ",
      "text/html": "<div>\n<style scoped>\n    .dataframe tbody tr th:only-of-type {\n        vertical-align: middle;\n    }\n\n    .dataframe tbody tr th {\n        vertical-align: top;\n    }\n\n    .dataframe thead th {\n        text-align: right;\n    }\n</style>\n<table border=\"1\" class=\"dataframe\">\n  <thead>\n    <tr style=\"text-align: right;\">\n      <th></th>\n      <th>saldo_CD1</th>\n      <th>saldo_CD2</th>\n      <th>saldo_CD3</th>\n      <th>saldo_AT1</th>\n      <th>saldo_AT2</th>\n      <th>saldo_AT3</th>\n      <th>saldo_EmpAgr</th>\n      <th>saldo_EmpFer</th>\n      <th>saldo_EmpMaq</th>\n      <th>saldo_EmpSem</th>\n      <th>saldo_FiscalAT</th>\n      <th>saldo_FiscalCD</th>\n      <th>saldo_PrefeitoAT</th>\n      <th>saldo_PrefeitoCD</th>\n      <th>selo</th>\n      <th>prox_taxa</th>\n      <th>val_taxa</th>\n      <th>parcela</th>\n      <th>acao_aluguel</th>\n      <th>acao_imposto</th>\n      <th>acao_multa</th>\n      <th>acao_novaTaxa</th>\n      <th>acao_selo</th>\n      <th>acao_transferencia</th>\n      <th>acao_tratamento</th>\n      <th>acao_venda</th>\n      <th>pessoa1_AT1</th>\n      <th>pessoa1_AT2</th>\n      <th>pessoa1_AT3</th>\n      <th>pessoa1_CD1</th>\n      <th>pessoa1_CD2</th>\n      <th>pessoa1_EmpAgr</th>\n      <th>pessoa1_EmpFer</th>\n      <th>pessoa1_EmpMaq</th>\n      <th>pessoa1_EmpSem</th>\n      <th>pessoa1_FiscalAT</th>\n      <th>pessoa1_FiscalCD</th>\n      <th>pessoa1_PrefeitoAT</th>\n      <th>pessoa1_PrefeitoCD</th>\n      <th>pessoa2_AT1</th>\n      <th>pessoa2_AT2</th>\n      <th>pessoa2_AT3</th>\n      <th>pessoa2_CD1</th>\n      <th>pessoa2_CD2</th>\n      <th>pessoa2_CD3</th>\n      <th>pessoa2_EmpAgr</th>\n      <th>pessoa2_EmpFer</th>\n      <th>pessoa2_EmpMaq</th>\n      <th>pessoa2_EmpSem</th>\n      <th>objeto_Arroz</th>\n      <th>objeto_Comum</th>\n      <th>objeto_Hortalica</th>\n      <th>objeto_Maquinas1</th>\n      <th>objeto_Maquinas2</th>\n      <th>objeto_Maquinas3</th>\n      <th>objeto_Premium</th>\n      <th>objeto_Pulverizador</th>\n      <th>objeto_Soja</th>\n      <th>objeto_SuperPremium</th>\n      <th>tipo_preco_alto</th>\n      <th>tipo_preco_baixo</th>\n      <th>tipo_preco_normal</th>\n      <th>tratamento_Agua</th>\n      <th>tratamento_Esgoto</th>\n      <th>tratamento_Lixo</th>\n    </tr>\n  </thead>\n  <tbody>\n    <tr>\n      <th>0</th>\n      <td>600.0</td>\n      <td>600.0</td>\n      <td>600.0</td>\n      <td>585.0</td>\n      <td>600.0</td>\n      <td>600.0</td>\n      <td>100.0</td>\n      <td>100.0</td>\n      <td>100.0</td>\n      <td>125.0</td>\n      <td>0.0</td>\n      <td>0.0</td>\n      <td>1000.0</td>\n      <td>1000.0</td>\n      <td>NaN</td>\n      <td>NaN</td>\n      <td>NaN</td>\n      <td>1.0</td>\n      <td>0</td>\n      <td>0</td>\n      <td>0</td>\n      <td>0</td>\n      <td>0</td>\n      <td>0</td>\n      <td>0</td>\n      <td>1</td>\n      <td>0</td>\n      <td>0</td>\n      <td>0</td>\n      <td>0</td>\n      <td>0</td>\n      <td>0</td>\n      <td>0</td>\n      <td>0</td>\n      <td>1</td>\n      <td>0</td>\n      <td>0</td>\n      <td>0</td>\n      <td>0</td>\n      <td>1</td>\n      <td>0</td>\n      <td>0</td>\n      <td>0</td>\n      <td>0</td>\n      <td>0</td>\n      <td>0</td>\n      <td>0</td>\n      <td>0</td>\n      <td>0</td>\n      <td>0</td>\n      <td>0</td>\n      <td>0</td>\n      <td>0</td>\n      <td>0</td>\n      <td>0</td>\n      <td>0</td>\n      <td>0</td>\n      <td>1</td>\n      <td>0</td>\n      <td>0</td>\n      <td>1</td>\n      <td>0</td>\n      <td>0</td>\n      <td>0</td>\n      <td>0</td>\n    </tr>\n    <tr>\n      <th>1</th>\n      <td>600.0</td>\n      <td>600.0</td>\n      <td>600.0</td>\n      <td>670.0</td>\n      <td>600.0</td>\n      <td>600.0</td>\n      <td>125.0</td>\n      <td>100.0</td>\n      <td>100.0</td>\n      <td>125.0</td>\n      <td>0.0</td>\n      <td>0.0</td>\n      <td>1000.0</td>\n      <td>1000.0</td>\n      <td>NaN</td>\n      <td>NaN</td>\n      <td>NaN</td>\n      <td>1.0</td>\n      <td>0</td>\n      <td>0</td>\n      <td>0</td>\n      <td>0</td>\n      <td>0</td>\n      <td>0</td>\n      <td>0</td>\n      <td>1</td>\n      <td>0</td>\n      <td>0</td>\n      <td>0</td>\n      <td>0</td>\n      <td>0</td>\n      <td>1</td>\n      <td>0</td>\n      <td>0</td>\n      <td>0</td>\n      <td>0</td>\n      <td>0</td>\n      <td>0</td>\n      <td>0</td>\n      <td>1</td>\n      <td>0</td>\n      <td>0</td>\n      <td>0</td>\n      <td>0</td>\n      <td>0</td>\n      <td>0</td>\n      <td>0</td>\n      <td>0</td>\n      <td>0</td>\n      <td>0</td>\n      <td>0</td>\n      <td>0</td>\n      <td>0</td>\n      <td>0</td>\n      <td>0</td>\n      <td>0</td>\n      <td>0</td>\n      <td>0</td>\n      <td>1</td>\n      <td>0</td>\n      <td>1</td>\n      <td>0</td>\n      <td>0</td>\n      <td>0</td>\n      <td>0</td>\n    </tr>\n    <tr>\n      <th>2</th>\n      <td>600.0</td>\n      <td>600.0</td>\n      <td>600.0</td>\n      <td>655.0</td>\n      <td>600.0</td>\n      <td>600.0</td>\n      <td>125.0</td>\n      <td>100.0</td>\n      <td>100.0</td>\n      <td>150.0</td>\n      <td>0.0</td>\n      <td>0.0</td>\n      <td>1000.0</td>\n      <td>1000.0</td>\n      <td>NaN</td>\n      <td>NaN</td>\n      <td>NaN</td>\n      <td>2.0</td>\n      <td>0</td>\n      <td>0</td>\n      <td>0</td>\n      <td>0</td>\n      <td>0</td>\n      <td>0</td>\n      <td>0</td>\n      <td>1</td>\n      <td>0</td>\n      <td>0</td>\n      <td>0</td>\n      <td>0</td>\n      <td>0</td>\n      <td>0</td>\n      <td>0</td>\n      <td>0</td>\n      <td>1</td>\n      <td>0</td>\n      <td>0</td>\n      <td>0</td>\n      <td>0</td>\n      <td>1</td>\n      <td>0</td>\n      <td>0</td>\n      <td>0</td>\n      <td>0</td>\n      <td>0</td>\n      <td>0</td>\n      <td>0</td>\n      <td>0</td>\n      <td>0</td>\n      <td>0</td>\n      <td>0</td>\n      <td>0</td>\n      <td>0</td>\n      <td>0</td>\n      <td>0</td>\n      <td>0</td>\n      <td>0</td>\n      <td>1</td>\n      <td>0</td>\n      <td>0</td>\n      <td>1</td>\n      <td>0</td>\n      <td>0</td>\n      <td>0</td>\n      <td>0</td>\n    </tr>\n    <tr>\n      <th>3</th>\n      <td>600.0</td>\n      <td>600.0</td>\n      <td>600.0</td>\n      <td>740.0</td>\n      <td>600.0</td>\n      <td>600.0</td>\n      <td>150.0</td>\n      <td>100.0</td>\n      <td>100.0</td>\n      <td>150.0</td>\n      <td>0.0</td>\n      <td>0.0</td>\n      <td>1000.0</td>\n      <td>1000.0</td>\n      <td>NaN</td>\n      <td>NaN</td>\n      <td>NaN</td>\n      <td>2.0</td>\n      <td>0</td>\n      <td>0</td>\n      <td>0</td>\n      <td>0</td>\n      <td>0</td>\n      <td>0</td>\n      <td>0</td>\n      <td>1</td>\n      <td>0</td>\n      <td>0</td>\n      <td>0</td>\n      <td>0</td>\n      <td>0</td>\n      <td>1</td>\n      <td>0</td>\n      <td>0</td>\n      <td>0</td>\n      <td>0</td>\n      <td>0</td>\n      <td>0</td>\n      <td>0</td>\n      <td>1</td>\n      <td>0</td>\n      <td>0</td>\n      <td>0</td>\n      <td>0</td>\n      <td>0</td>\n      <td>0</td>\n      <td>0</td>\n      <td>0</td>\n      <td>0</td>\n      <td>0</td>\n      <td>0</td>\n      <td>0</td>\n      <td>0</td>\n      <td>0</td>\n      <td>0</td>\n      <td>0</td>\n      <td>0</td>\n      <td>0</td>\n      <td>1</td>\n      <td>0</td>\n      <td>1</td>\n      <td>0</td>\n      <td>0</td>\n      <td>0</td>\n      <td>0</td>\n    </tr>\n    <tr>\n      <th>4</th>\n      <td>600.0</td>\n      <td>600.0</td>\n      <td>600.0</td>\n      <td>725.0</td>\n      <td>600.0</td>\n      <td>600.0</td>\n      <td>150.0</td>\n      <td>100.0</td>\n      <td>100.0</td>\n      <td>175.0</td>\n      <td>0.0</td>\n      <td>0.0</td>\n      <td>1000.0</td>\n      <td>1000.0</td>\n      <td>NaN</td>\n      <td>NaN</td>\n      <td>NaN</td>\n      <td>3.0</td>\n      <td>0</td>\n      <td>0</td>\n      <td>0</td>\n      <td>0</td>\n      <td>0</td>\n      <td>0</td>\n      <td>0</td>\n      <td>1</td>\n      <td>0</td>\n      <td>0</td>\n      <td>0</td>\n      <td>0</td>\n      <td>0</td>\n      <td>0</td>\n      <td>0</td>\n      <td>0</td>\n      <td>1</td>\n      <td>0</td>\n      <td>0</td>\n      <td>0</td>\n      <td>0</td>\n      <td>1</td>\n      <td>0</td>\n      <td>0</td>\n      <td>0</td>\n      <td>0</td>\n      <td>0</td>\n      <td>0</td>\n      <td>0</td>\n      <td>0</td>\n      <td>0</td>\n      <td>0</td>\n      <td>0</td>\n      <td>0</td>\n      <td>0</td>\n      <td>0</td>\n      <td>0</td>\n      <td>0</td>\n      <td>0</td>\n      <td>1</td>\n      <td>0</td>\n      <td>0</td>\n      <td>1</td>\n      <td>0</td>\n      <td>0</td>\n      <td>0</td>\n      <td>0</td>\n    </tr>\n  </tbody>\n</table>\n</div>"
     },
     "metadata": {},
     "execution_count": 5
    }
   ],
   "source": [
    "#transformacao dos dados categoricos em numericos\n",
    "previsores = previsores.drop(\n",
    "    columns=['acao','pessoa1','pessoa2','parcela','objeto','tipo_preco','tratamento'])\n",
    "previsores = pd.concat([previsores,pd.get_dummies(\n",
    "    df[['acao','pessoa1','pessoa2','parcela','objeto','tipo_preco','tratamento']])], axis=1)\n",
    "pd.set_option('display.max_columns', None)\n",
    "previsores.head()"
   ]
  },
  {
   "cell_type": "code",
   "execution_count": 11,
   "metadata": {},
   "outputs": [
    {
     "output_type": "execute_result",
     "data": {
      "text/plain": "array([[-1.00362781, -0.63265552, -0.48840762, ..., -0.08571778,\n        -0.0605006 , -0.07661205],\n       [-1.00362781, -0.63265552, -0.48840762, ..., -0.08571778,\n        -0.0605006 , -0.07661205],\n       [-1.00362781, -0.63265552, -0.48840762, ..., -0.08571778,\n        -0.0605006 , -0.07661205],\n       ...,\n       [-3.00228028, -1.02900363, -1.53070774, ..., -0.08571778,\n        -0.0605006 , -0.07661205],\n       [-3.00228028, -1.02900363, -1.53070774, ..., -0.08571778,\n        -0.0605006 , -0.07661205],\n       [-3.00228028, -1.02900363, -1.53070774, ..., -0.08571778,\n        -0.0605006 , -0.07661205]])"
     },
     "metadata": {},
     "execution_count": 11
    }
   ],
   "source": [
    "#normalizacao dos dados\n",
    "X = previsores\n",
    "X = preprocessing.StandardScaler().fit(X).transform(X)\n",
    "X"
   ]
  },
  {
   "cell_type": "code",
   "execution_count": null,
   "metadata": {},
   "outputs": [],
   "source": [
    "from sklearn.model_selection import train_test_split"
   ]
  },
  {
   "cell_type": "code",
   "execution_count": 14,
   "metadata": {},
   "outputs": [],
   "source": [
    "Y = classe\n",
    "#separação dos dados para treino e teste\n",
    "x_treino, x_teste, y_treino, y_teste = train_test_split(\n",
    "    X, Y, test_size = 0.2, random_state = 0)"
   ]
  },
  {
   "cell_type": "code",
   "execution_count": null,
   "metadata": {},
   "outputs": [],
   "source": [
    "from sklearn.linear_model import LinearRegression"
   ]
  },
  {
   "cell_type": "code",
   "execution_count": null,
   "metadata": {},
   "outputs": [],
   "source": [
    "regressaoLinear = LinearRegression()\n",
    "regressaoLinear.fit(x_treino, y_treino)\n",
    "score = regressaoLinear.score(x_treino, y_treino)\n",
    "coeficiente = regressaoLinear.coef_\n",
    "intercepcao = regressaoLinear.intercept_\n",
    "previsoes = regressaoLinear.predict(x_teste)"
   ]
  },
  {
   "cell_type": "code",
   "execution_count": null,
   "metadata": {},
   "outputs": [],
   "source": [
    "from sklearn.tree import DecisionTreeRegressor"
   ]
  },
  {
   "cell_type": "code",
   "execution_count": null,
   "metadata": {},
   "outputs": [],
   "source": [
    "regressaoArvores = DecisionTreeRegressor()\n",
    "regressaoArvores.fit(x_treino, y_treino)\n",
    "score = regressaoArvores.score(x_treino, y_treino)\n",
    "previsoes = regressaoArvores.predict(x_teste)"
   ]
  },
  {
   "cell_type": "code",
   "execution_count": null,
   "metadata": {},
   "outputs": [],
   "source": [
    "from sklearn.ensemble import RandomForestRegressor"
   ]
  },
  {
   "cell_type": "code",
   "execution_count": null,
   "metadata": {},
   "outputs": [],
   "source": [
    "regressaoRandomForest = RandomForestRegressor(n_estimators = 100)\n",
    "regressaoRandomForest.fit(x_treino, y_treino)\n",
    "score = regressaoRandomForest.score(x_treino, y_treino)\n",
    "previsoes = regressaoRandomForest.predict(x_teste)"
   ]
  },
  {
   "cell_type": "code",
   "execution_count": null,
   "metadata": {},
   "outputs": [],
   "source": [
    "from sklearn.svm import SVR"
   ]
  },
  {
   "cell_type": "code",
   "execution_count": null,
   "metadata": {},
   "outputs": [],
   "source": [
    "regressorSVM = SVR(kernel = 'rbf')\n",
    "regressorSVM.fit(x_treino, y_treino)\n",
    "score = regressorSVM.score(x_treino, y_treino)\n",
    "previsoes = regressorSVM.predict(x_teste)"
   ]
  },
  {
   "cell_type": "code",
   "execution_count": null,
   "metadata": {},
   "outputs": [],
   "source": [
    "from sklearn.metrics import mean_absolute_error, confusion_matrix, accuracy_score, precision_score, f1_score, recall_score"
   ]
  },
  {
   "cell_type": "code",
   "execution_count": null,
   "metadata": {},
   "outputs": [],
   "source": [
    "mae = mean_absolute_error(y_teste, previsoes)\n",
    "f1 = f1_score(y_teste, previsoes, average = 'weighted')\n",
    "recall = recall_score(y_teste, previsoes, average = 'weighted')\n",
    "accuracy = accuracy_score(y_teste, previsoes)\n",
    "precision = precision_score(y_teste, previsoes, average = 'weighted')\n",
    "matrix = confusion_matrix(y_teste, previsoes)"
   ]
  }
 ]
}